{
 "cells": [
  {
   "cell_type": "code",
   "execution_count": 2,
   "id": "e4c3bfa9-45dd-4091-be06-c421627a1f89",
   "metadata": {},
   "outputs": [
    {
     "name": "stdout",
     "output_type": "stream",
     "text": [
      "[[1. 0. 0. ... 0. 0. 0.]\n",
      " [0. 1. 0. ... 0. 0. 0.]\n",
      " [0. 0. 1. ... 0. 0. 0.]\n",
      " ...\n",
      " [0. 0. 0. ... 1. 0. 0.]\n",
      " [0. 0. 0. ... 0. 1. 0.]\n",
      " [0. 0. 0. ... 0. 0. 1.]]\n"
     ]
    }
   ],
   "source": [
    "import numpy as np\n",
    "\n",
    "# Replace 'your_file.npy' with the path to your .npy file\n",
    "data = np.load('neighbor_distance_matrix.npy')\n",
    "\n",
    "# Print or manipulate the data\n",
    "print(data)\n"
   ]
  },
  {
   "cell_type": "code",
   "execution_count": 3,
   "id": "0228c81a-01fe-4bc3-9b71-ec807e06cc61",
   "metadata": {},
   "outputs": [
    {
     "name": "stdout",
     "output_type": "stream",
     "text": [
      "[[  0 330 230 135 459 136]\n",
      " [  1 396 127 273 293 279]\n",
      " [  2 226 229 418  14  82]\n",
      " ...\n",
      " [487   8  67 126  59 142]\n",
      " [488 242 393 209 385 267]\n",
      " [489 296 183 157  28 474]]\n"
     ]
    }
   ],
   "source": [
    "import numpy as np\n",
    "\n",
    "# Replace 'your_file.npy' with the path to your .npy file\n",
    "data = np.load('neighbor_index_matrix.npy')\n",
    "\n",
    "# Print or manipulate the data\n",
    "print(data)\n"
   ]
  },
  {
   "cell_type": "code",
   "execution_count": null,
   "id": "3107e231-a780-4049-9db2-f06eabf97257",
   "metadata": {},
   "outputs": [],
   "source": []
  }
 ],
 "metadata": {
  "kernelspec": {
   "display_name": "Python 3 (ipykernel)",
   "language": "python",
   "name": "python3"
  },
  "language_info": {
   "codemirror_mode": {
    "name": "ipython",
    "version": 3
   },
   "file_extension": ".py",
   "mimetype": "text/x-python",
   "name": "python",
   "nbconvert_exporter": "python",
   "pygments_lexer": "ipython3",
   "version": "3.11.9"
  }
 },
 "nbformat": 4,
 "nbformat_minor": 5
}
