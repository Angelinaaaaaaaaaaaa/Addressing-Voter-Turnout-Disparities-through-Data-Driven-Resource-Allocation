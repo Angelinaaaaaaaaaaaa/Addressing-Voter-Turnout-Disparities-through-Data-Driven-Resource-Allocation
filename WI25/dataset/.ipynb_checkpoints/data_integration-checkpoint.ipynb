{
 "cells": [
  {
   "cell_type": "code",
   "execution_count": null,
   "id": "50cd9b34-2877-4fd9-ae49-a83ac5681498",
   "metadata": {},
   "outputs": [],
   "source": [
    "df_vote_rg = pd.read_csv('outcome-df/df_vote_rg.csv').iloc[:, 1:]"
   ]
  }
 ],
 "metadata": {
  "kernelspec": {
   "display_name": "Python 3 (ipykernel)",
   "language": "python",
   "name": "python3"
  },
  "language_info": {
   "codemirror_mode": {
    "name": "ipython",
    "version": 3
   },
   "file_extension": ".py",
   "mimetype": "text/x-python",
   "name": "python",
   "nbconvert_exporter": "python",
   "pygments_lexer": "ipython3",
   "version": "3.11.7"
  }
 },
 "nbformat": 4,
 "nbformat_minor": 5
}
