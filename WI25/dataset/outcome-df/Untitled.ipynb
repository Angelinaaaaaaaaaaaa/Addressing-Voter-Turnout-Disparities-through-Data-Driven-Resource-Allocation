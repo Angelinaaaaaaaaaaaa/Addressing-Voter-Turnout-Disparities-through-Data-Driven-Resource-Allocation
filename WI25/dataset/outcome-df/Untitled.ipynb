{
 "cells": [
  {
   "cell_type": "code",
   "execution_count": 3,
   "id": "765919d4-f541-4724-b22d-f353cdde227f",
   "metadata": {},
   "outputs": [],
   "source": [
    "import pandas as pd\n",
    "import numpy as np\n"
   ]
  },
  {
   "cell_type": "code",
   "execution_count": 17,
   "id": "97892b5d-5156-43ee-94bc-8788789a107b",
   "metadata": {},
   "outputs": [
    {
     "data": {
      "text/html": [
       "<div>\n",
       "<style scoped>\n",
       "    .dataframe tbody tr th:only-of-type {\n",
       "        vertical-align: middle;\n",
       "    }\n",
       "\n",
       "    .dataframe tbody tr th {\n",
       "        vertical-align: top;\n",
       "    }\n",
       "\n",
       "    .dataframe thead th {\n",
       "        text-align: right;\n",
       "    }\n",
       "</style>\n",
       "<table border=\"1\" class=\"dataframe\">\n",
       "  <thead>\n",
       "    <tr style=\"text-align: right;\">\n",
       "      <th></th>\n",
       "      <th>Unnamed: 0</th>\n",
       "      <th>County</th>\n",
       "      <th>n_poll</th>\n",
       "    </tr>\n",
       "  </thead>\n",
       "  <tbody>\n",
       "    <tr>\n",
       "      <th>0</th>\n",
       "      <td>0</td>\n",
       "      <td>APPLING</td>\n",
       "      <td>9</td>\n",
       "    </tr>\n",
       "    <tr>\n",
       "      <th>1</th>\n",
       "      <td>1</td>\n",
       "      <td>ATKINSON</td>\n",
       "      <td>4</td>\n",
       "    </tr>\n",
       "    <tr>\n",
       "      <th>2</th>\n",
       "      <td>2</td>\n",
       "      <td>BACON</td>\n",
       "      <td>1</td>\n",
       "    </tr>\n",
       "    <tr>\n",
       "      <th>3</th>\n",
       "      <td>3</td>\n",
       "      <td>BAKER</td>\n",
       "      <td>5</td>\n",
       "    </tr>\n",
       "    <tr>\n",
       "      <th>4</th>\n",
       "      <td>4</td>\n",
       "      <td>BALDWIN</td>\n",
       "      <td>14</td>\n",
       "    </tr>\n",
       "    <tr>\n",
       "      <th>...</th>\n",
       "      <td>...</td>\n",
       "      <td>...</td>\n",
       "      <td>...</td>\n",
       "    </tr>\n",
       "    <tr>\n",
       "      <th>154</th>\n",
       "      <td>154</td>\n",
       "      <td>WHITFIELD</td>\n",
       "      <td>23</td>\n",
       "    </tr>\n",
       "    <tr>\n",
       "      <th>155</th>\n",
       "      <td>155</td>\n",
       "      <td>WILCOX</td>\n",
       "      <td>6</td>\n",
       "    </tr>\n",
       "    <tr>\n",
       "      <th>156</th>\n",
       "      <td>156</td>\n",
       "      <td>WILKES</td>\n",
       "      <td>7</td>\n",
       "    </tr>\n",
       "    <tr>\n",
       "      <th>157</th>\n",
       "      <td>157</td>\n",
       "      <td>WILKINSON</td>\n",
       "      <td>9</td>\n",
       "    </tr>\n",
       "    <tr>\n",
       "      <th>158</th>\n",
       "      <td>158</td>\n",
       "      <td>WORTH</td>\n",
       "      <td>15</td>\n",
       "    </tr>\n",
       "  </tbody>\n",
       "</table>\n",
       "<p>159 rows × 3 columns</p>\n",
       "</div>"
      ],
      "text/plain": [
       "     Unnamed: 0     County  n_poll\n",
       "0             0    APPLING       9\n",
       "1             1   ATKINSON       4\n",
       "2             2      BACON       1\n",
       "3             3      BAKER       5\n",
       "4             4    BALDWIN      14\n",
       "..          ...        ...     ...\n",
       "154         154  WHITFIELD      23\n",
       "155         155     WILCOX       6\n",
       "156         156     WILKES       7\n",
       "157         157  WILKINSON       9\n",
       "158         158      WORTH      15\n",
       "\n",
       "[159 rows x 3 columns]"
      ]
     },
     "execution_count": 17,
     "metadata": {},
     "output_type": "execute_result"
    }
   ],
   "source": [
    "df = pd.read_csv('df_poll.csv')\n",
    "df"
   ]
  },
  {
   "cell_type": "code",
   "execution_count": 9,
   "id": "512837de-384b-4e31-bc89-d0bc58d55a1a",
   "metadata": {},
   "outputs": [],
   "source": [
    "import time"
   ]
  },
  {
   "cell_type": "code",
   "execution_count": 16,
   "id": "9c6d6d98-459f-4100-b626-b80db96cb0f5",
   "metadata": {},
   "outputs": [
    {
     "name": "stdout",
     "output_type": "stream",
     "text": [
      "Appling County, Georgia, United States\n"
     ]
    }
   ],
   "source": [
    "from geopy.geocoders import Nominatim\n",
    "geolocator = Nominatim(user_agent=\"my_geopy_application\")\n",
    "\n",
    "location = geolocator.geocode(\"APPLING County, Georgia, USA\")\n",
    "print(location)\n"
   ]
  },
  {
   "cell_type": "code",
   "execution_count": 12,
   "id": "d0b89f39-ad87-4116-978e-6197a6f5ea5c",
   "metadata": {},
   "outputs": [
    {
     "name": "stdout",
     "output_type": "stream",
     "text": [
      "     Unnamed: 0     County  n_poll  latitude  longitude\n",
      "0             0    APPLING       9       NaN        NaN\n",
      "1             1   ATKINSON       4       NaN        NaN\n",
      "2             2      BACON       1       NaN        NaN\n",
      "3             3      BAKER       5       NaN        NaN\n",
      "4             4    BALDWIN      14       NaN        NaN\n",
      "..          ...        ...     ...       ...        ...\n",
      "154         154  WHITFIELD      23       NaN        NaN\n",
      "155         155     WILCOX       6       NaN        NaN\n",
      "156         156     WILKES       7       NaN        NaN\n",
      "157         157  WILKINSON       9       NaN        NaN\n",
      "158         158      WORTH      15       NaN        NaN\n",
      "\n",
      "[159 rows x 5 columns]\n"
     ]
    }
   ],
   "source": [
    "# Initialize the geolocator with a custom user agent\n",
    "geolocator = Nominatim(user_agent=\"my_geopy_application\")\n",
    "\n",
    "# Function to get latitude and longitude\n",
    "def get_lat_lon(county_name):\n",
    "    try:\n",
    "        # Append \"County, Georgia, USA\" to make the query specific\n",
    "        location = geolocator.geocode(f\"{county_name} County, Georgia, USA\")\n",
    "        if location:\n",
    "            return pd.Series([location.latitude, location.longitude])\n",
    "        else:\n",
    "            return pd.Series([None, None])  # If no result is found\n",
    "    except (GeocoderTimedOut, GeocoderServiceError) as e:\n",
    "        print(f\"Error geocoding {county_name}: {e}\")\n",
    "        return pd.Series([None, None])\n",
    "\n",
    "# Apply the function with a delay\n",
    "lat_lon_list = []\n",
    "for county in df[\"County\"]:\n",
    "    lat_lon_list.append(get_lat_lon(county))\n",
    "    time.sleep(1)  # Add delay to avoid rate limiting\n",
    "\n",
    "# Convert the results to a DataFrame\n",
    "lat_lon_df = pd.DataFrame(lat_lon_list, columns=[\"latitude\", \"longitude\"])\n",
    "\n",
    "# Merge results back into the original DataFrame\n",
    "df = pd.concat([df, lat_lon_df], axis=1)\n",
    "\n",
    "# Display the updated DataFrame\n",
    "print(df)"
   ]
  },
  {
   "cell_type": "code",
   "execution_count": 18,
   "id": "d8a5d559-a25a-4cbe-9a26-c3fe5a42622b",
   "metadata": {},
   "outputs": [
    {
     "name": "stdout",
     "output_type": "stream",
     "text": [
      "     Unnamed: 0     County  n_poll  latitude  longitude\n",
      "0             0    APPLING       9       NaN        NaN\n",
      "1             1   ATKINSON       4       NaN        NaN\n",
      "2             2      BACON       1       NaN        NaN\n",
      "3             3      BAKER       5       NaN        NaN\n",
      "4             4    BALDWIN      14       NaN        NaN\n",
      "..          ...        ...     ...       ...        ...\n",
      "154         154  WHITFIELD      23       NaN        NaN\n",
      "155         155     WILCOX       6       NaN        NaN\n",
      "156         156     WILKES       7       NaN        NaN\n",
      "157         157  WILKINSON       9       NaN        NaN\n",
      "158         158      WORTH      15       NaN        NaN\n",
      "\n",
      "[159 rows x 5 columns]\n"
     ]
    }
   ],
   "source": [
    "import pandas as pd\n",
    "import time\n",
    "from geopy.geocoders import Nominatim\n",
    "from geopy.exc import GeocoderTimedOut, GeocoderServiceError\n",
    "\n",
    "# Initialize geolocator with a custom user agent\n",
    "geolocator = Nominatim(user_agent=\"my_geopy_application\")\n",
    "\n",
    "# Function to get latitude and longitude\n",
    "def get_lat_lon(county_name):\n",
    "    try:\n",
    "        # Query the geocoder\n",
    "        location = geolocator.geocode(f\"{county_name} County, Georgia, USA\")\n",
    "        if location:\n",
    "            return pd.Series([location.latitude, location.longitude])\n",
    "        else:\n",
    "            print(f\"No result for {county_name}\")\n",
    "            return pd.Series([None, None])\n",
    "    except (GeocoderTimedOut, GeocoderServiceError) as e:\n",
    "        print(f\"Error geocoding {county_name}: {e}\")\n",
    "        return pd.Series([None, None])\n",
    "\n",
    "# Apply the function with a delay\n",
    "lat_lon_list = []\n",
    "for county in df[\"County\"]:\n",
    "    lat_lon_list.append(get_lat_lon(county))\n",
    "    time.sleep(2)  # Longer delay to avoid rate limiting\n",
    "\n",
    "# Convert results to DataFrame\n",
    "lat_lon_df = pd.DataFrame(lat_lon_list, columns=[\"latitude\", \"longitude\"])\n",
    "\n",
    "# Merge results back into the original DataFrame\n",
    "df = pd.concat([df, lat_lon_df], axis=1)\n",
    "\n",
    "# Display the updated DataFrame\n",
    "print(df)"
   ]
  },
  {
   "cell_type": "code",
   "execution_count": 11,
   "id": "66c6c7e1-add1-462c-b494-785ccaa27685",
   "metadata": {},
   "outputs": [
    {
     "data": {
      "text/plain": [
       "0    32.809588\n",
       "1   -83.694562\n",
       "dtype: float64"
      ]
     },
     "execution_count": 11,
     "metadata": {},
     "output_type": "execute_result"
    }
   ],
   "source": [
    "get_lat_lon('BIBB')"
   ]
  },
  {
   "cell_type": "code",
   "execution_count": 15,
   "id": "1f1a17e2-2171-4fdc-b0bc-236558781eec",
   "metadata": {},
   "outputs": [
    {
     "data": {
      "text/html": [
       "<div>\n",
       "<style scoped>\n",
       "    .dataframe tbody tr th:only-of-type {\n",
       "        vertical-align: middle;\n",
       "    }\n",
       "\n",
       "    .dataframe tbody tr th {\n",
       "        vertical-align: top;\n",
       "    }\n",
       "\n",
       "    .dataframe thead th {\n",
       "        text-align: right;\n",
       "    }\n",
       "</style>\n",
       "<table border=\"1\" class=\"dataframe\">\n",
       "  <thead>\n",
       "    <tr style=\"text-align: right;\">\n",
       "      <th></th>\n",
       "      <th>Unnamed: 0</th>\n",
       "      <th>n_poll</th>\n",
       "      <th>latitude</th>\n",
       "      <th>longitude</th>\n",
       "    </tr>\n",
       "  </thead>\n",
       "  <tbody>\n",
       "    <tr>\n",
       "      <th>count</th>\n",
       "      <td>159.000000</td>\n",
       "      <td>159.000000</td>\n",
       "      <td>0.0</td>\n",
       "      <td>0.0</td>\n",
       "    </tr>\n",
       "    <tr>\n",
       "      <th>mean</th>\n",
       "      <td>79.000000</td>\n",
       "      <td>16.842767</td>\n",
       "      <td>NaN</td>\n",
       "      <td>NaN</td>\n",
       "    </tr>\n",
       "    <tr>\n",
       "      <th>std</th>\n",
       "      <td>46.043458</td>\n",
       "      <td>38.730901</td>\n",
       "      <td>NaN</td>\n",
       "      <td>NaN</td>\n",
       "    </tr>\n",
       "    <tr>\n",
       "      <th>min</th>\n",
       "      <td>0.000000</td>\n",
       "      <td>1.000000</td>\n",
       "      <td>NaN</td>\n",
       "      <td>NaN</td>\n",
       "    </tr>\n",
       "    <tr>\n",
       "      <th>25%</th>\n",
       "      <td>39.500000</td>\n",
       "      <td>5.000000</td>\n",
       "      <td>NaN</td>\n",
       "      <td>NaN</td>\n",
       "    </tr>\n",
       "    <tr>\n",
       "      <th>50%</th>\n",
       "      <td>79.000000</td>\n",
       "      <td>8.000000</td>\n",
       "      <td>NaN</td>\n",
       "      <td>NaN</td>\n",
       "    </tr>\n",
       "    <tr>\n",
       "      <th>75%</th>\n",
       "      <td>118.500000</td>\n",
       "      <td>14.000000</td>\n",
       "      <td>NaN</td>\n",
       "      <td>NaN</td>\n",
       "    </tr>\n",
       "    <tr>\n",
       "      <th>max</th>\n",
       "      <td>158.000000</td>\n",
       "      <td>394.000000</td>\n",
       "      <td>NaN</td>\n",
       "      <td>NaN</td>\n",
       "    </tr>\n",
       "  </tbody>\n",
       "</table>\n",
       "</div>"
      ],
      "text/plain": [
       "       Unnamed: 0      n_poll  latitude  longitude\n",
       "count  159.000000  159.000000       0.0        0.0\n",
       "mean    79.000000   16.842767       NaN        NaN\n",
       "std     46.043458   38.730901       NaN        NaN\n",
       "min      0.000000    1.000000       NaN        NaN\n",
       "25%     39.500000    5.000000       NaN        NaN\n",
       "50%     79.000000    8.000000       NaN        NaN\n",
       "75%    118.500000   14.000000       NaN        NaN\n",
       "max    158.000000  394.000000       NaN        NaN"
      ]
     },
     "execution_count": 15,
     "metadata": {},
     "output_type": "execute_result"
    }
   ],
   "source": [
    "df.describe()"
   ]
  },
  {
   "cell_type": "code",
   "execution_count": null,
   "id": "4652a80a-f0e0-4a12-be31-0e5268c4a940",
   "metadata": {},
   "outputs": [],
   "source": [
    "\n",
    "# Optionally save to a CSV file\n",
    "df.to_csv('counties_with_lat_lon.csv', index=False)\n"
   ]
  }
 ],
 "metadata": {
  "kernelspec": {
   "display_name": "Python 3 (ipykernel)",
   "language": "python",
   "name": "python3"
  },
  "language_info": {
   "codemirror_mode": {
    "name": "ipython",
    "version": 3
   },
   "file_extension": ".py",
   "mimetype": "text/x-python",
   "name": "python",
   "nbconvert_exporter": "python",
   "pygments_lexer": "ipython3",
   "version": "3.11.9"
  }
 },
 "nbformat": 4,
 "nbformat_minor": 5
}
